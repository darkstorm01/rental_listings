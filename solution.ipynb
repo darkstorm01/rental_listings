{
 "cells": [
  {
   "cell_type": "code",
   "execution_count": 1,
   "id": "46a55464",
   "metadata": {},
   "outputs": [],
   "source": [
    "import pandas as pd\n",
    "import matplotlib.pyplot as plt"
   ]
  },
  {
   "cell_type": "code",
   "execution_count": 2,
   "id": "1407d08d",
   "metadata": {},
   "outputs": [
    {
     "name": "stdout",
     "output_type": "stream",
     "text": [
      "         bathrooms      bedrooms      latitude    listing_id     longitude  \\\n",
      "count  49352.00000  49352.000000  49352.000000  4.935200e+04  49352.000000   \n",
      "mean       1.21218      1.541640     40.741545  7.024055e+06    -73.955716   \n",
      "std        0.50142      1.115018      0.638535  1.262746e+05      1.177912   \n",
      "min        0.00000      0.000000      0.000000  6.811957e+06   -118.271000   \n",
      "25%        1.00000      1.000000     40.728300  6.915888e+06    -73.991700   \n",
      "50%        1.00000      1.000000     40.751800  7.021070e+06    -73.977900   \n",
      "75%        1.00000      2.000000     40.774300  7.128733e+06    -73.954800   \n",
      "max       10.00000      8.000000     44.883500  7.753784e+06      0.000000   \n",
      "\n",
      "              price  \n",
      "count  4.935200e+04  \n",
      "mean   3.830174e+03  \n",
      "std    2.206687e+04  \n",
      "min    4.300000e+01  \n",
      "25%    2.500000e+03  \n",
      "50%    3.150000e+03  \n",
      "75%    4.100000e+03  \n",
      "max    4.490000e+06  \n"
     ]
    }
   ],
   "source": [
    "df2 = pd.read_json(\"train.json\")\n",
    "details=df2.describe()\n",
    "print(details)"
   ]
  },
  {
   "cell_type": "code",
   "execution_count": 3,
   "id": "eb06fd89",
   "metadata": {},
   "outputs": [
    {
     "data": {
      "image/png": "[encoded data removed]",
      "text/plain": [
       "<Figure size 432x288 with 1 Axes>"
      ]
     },
     "metadata": {
      "needs_background": "light"
     },
     "output_type": "display_data"
    }
   ],
   "source": [
    "df2['interest_level'].value_counts().plot(kind=\"bar\")\n",
    "plt.xlabel('Level of interest')\n",
    "plt.xticks(rotation=0)\n",
    "plt.ylabel('Count')\n",
    "plt.title('Interest Level Distribution')\n",
    "plt.show()"
   ]
  },
  {
   "cell_type": "code",
   "execution_count": 4,
   "id": "76802e58",
   "metadata": {},
   "outputs": [
    {
     "data": {
      "text/html": [
       "<div>\n",
       "<style scoped>\n",
       "    .dataframe tbody tr th:only-of-type {\n",
       "        vertical-align: middle;\n",
       "    }\n",
       "\n",
       "    .dataframe tbody tr th {\n",
       "        vertical-align: top;\n",
       "    }\n",
       "\n",
       "    .dataframe thead th {\n",
       "        text-align: right;\n",
       "    }\n",
       "</style>\n",
       "<table border=\"1\" class=\"dataframe\">\n",
       "  <thead>\n",
       "    <tr style=\"text-align: right;\">\n",
       "      <th></th>\n",
       "      <th>bathrooms</th>\n",
       "      <th>bedrooms</th>\n",
       "      <th>building_id</th>\n",
       "      <th>created</th>\n",
       "      <th>description</th>\n",
       "      <th>display_address</th>\n",
       "      <th>features</th>\n",
       "      <th>latitude</th>\n",
       "      <th>listing_id</th>\n",
       "      <th>longitude</th>\n",
       "      <th>manager_id</th>\n",
       "      <th>photos</th>\n",
       "      <th>price</th>\n",
       "      <th>street_address</th>\n",
       "      <th>interest_level</th>\n",
       "      <th>id</th>\n",
       "    </tr>\n",
       "  </thead>\n",
       "  <tbody>\n",
       "    <tr>\n",
       "      <th>4</th>\n",
       "      <td>1.0</td>\n",
       "      <td>1</td>\n",
       "      <td>8579a0b0d54db803821a35a4a615e97a</td>\n",
       "      <td>2016-06-16 05:55:27</td>\n",
       "      <td>Spacious 1 Bedroom 1 Bathroom in Williamsburg!...</td>\n",
       "      <td>145 Borinquen Place</td>\n",
       "      <td>[Dining Room, Pre-War, Laundry in Building, Di...</td>\n",
       "      <td>40.7108</td>\n",
       "      <td>7170325</td>\n",
       "      <td>-73.9539</td>\n",
       "      <td>a10db4590843d78c784171a107bdacb4</td>\n",
       "      <td>[https://photos.renthop.com/2/7170325_3bb5ac84...</td>\n",
       "      <td>2400</td>\n",
       "      <td>145 Borinquen Place</td>\n",
       "      <td>medium</td>\n",
       "      <td>4</td>\n",
       "    </tr>\n",
       "    <tr>\n",
       "      <th>6</th>\n",
       "      <td>1.0</td>\n",
       "      <td>2</td>\n",
       "      <td>b8e75fc949a6cd8225b455648a951712</td>\n",
       "      <td>2016-06-01 05:44:33</td>\n",
       "      <td>BRAND NEW GUT RENOVATED TRUE 2 BEDROOMFind you...</td>\n",
       "      <td>East 44th</td>\n",
       "      <td>[Doorman, Elevator, Laundry in Building, Dishw...</td>\n",
       "      <td>40.7513</td>\n",
       "      <td>7092344</td>\n",
       "      <td>-73.9722</td>\n",
       "      <td>955db33477af4f40004820b4aed804a0</td>\n",
       "      <td>[https://photos.renthop.com/2/7092344_7663c19a...</td>\n",
       "      <td>3800</td>\n",
       "      <td>230 East 44th</td>\n",
       "      <td>low</td>\n",
       "      <td>6</td>\n",
       "    </tr>\n",
       "    <tr>\n",
       "      <th>9</th>\n",
       "      <td>1.0</td>\n",
       "      <td>2</td>\n",
       "      <td>cd759a988b8f23924b5a2058d5ab2b49</td>\n",
       "      <td>2016-06-14 15:19:59</td>\n",
       "      <td>**FLEX 2 BEDROOM WITH FULL PRESSURIZED WALL**L...</td>\n",
       "      <td>East 56th Street</td>\n",
       "      <td>[Doorman, Elevator, Laundry in Building, Laund...</td>\n",
       "      <td>40.7575</td>\n",
       "      <td>7158677</td>\n",
       "      <td>-73.9625</td>\n",
       "      <td>c8b10a317b766204f08e613cef4ce7a0</td>\n",
       "      <td>[https://photos.renthop.com/2/7158677_c897a134...</td>\n",
       "      <td>3495</td>\n",
       "      <td>405 East 56th Street</td>\n",
       "      <td>medium</td>\n",
       "      <td>9</td>\n",
       "    </tr>\n",
       "    <tr>\n",
       "      <th>10</th>\n",
       "      <td>1.5</td>\n",
       "      <td>3</td>\n",
       "      <td>53a5b119ba8f7b61d4e010512e0dfc85</td>\n",
       "      <td>2016-06-24 07:54:24</td>\n",
       "      <td>A Brand New 3 Bedroom 1.5 bath ApartmentEnjoy ...</td>\n",
       "      <td>Metropolitan Avenue</td>\n",
       "      <td>[]</td>\n",
       "      <td>40.7145</td>\n",
       "      <td>7211212</td>\n",
       "      <td>-73.9425</td>\n",
       "      <td>5ba989232d0489da1b5f2c45f6688adc</td>\n",
       "      <td>[https://photos.renthop.com/2/7211212_1ed4542e...</td>\n",
       "      <td>3000</td>\n",
       "      <td>792 Metropolitan Avenue</td>\n",
       "      <td>medium</td>\n",
       "      <td>10</td>\n",
       "    </tr>\n",
       "    <tr>\n",
       "      <th>15</th>\n",
       "      <td>1.0</td>\n",
       "      <td>0</td>\n",
       "      <td>bfb9405149bfff42a92980b594c28234</td>\n",
       "      <td>2016-06-28 03:50:23</td>\n",
       "      <td>Over-sized Studio w abundant closets. Availabl...</td>\n",
       "      <td>East 34th Street</td>\n",
       "      <td>[Doorman, Elevator, Fitness Center, Laundry in...</td>\n",
       "      <td>40.7439</td>\n",
       "      <td>7225292</td>\n",
       "      <td>-73.9743</td>\n",
       "      <td>2c3b41f588fbb5234d8a1e885a436cfa</td>\n",
       "      <td>[https://photos.renthop.com/2/7225292_901f1984...</td>\n",
       "      <td>2795</td>\n",
       "      <td>340 East 34th Street</td>\n",
       "      <td>low</td>\n",
       "      <td>15</td>\n",
       "    </tr>\n",
       "  </tbody>\n",
       "</table>\n",
       "</div>"
      ],
      "text/plain": [
       "    bathrooms  bedrooms                       building_id  \\\n",
       "4         1.0         1  8579a0b0d54db803821a35a4a615e97a   \n",
       "6         1.0         2  b8e75fc949a6cd8225b455648a951712   \n",
       "9         1.0         2  cd759a988b8f23924b5a2058d5ab2b49   \n",
       "10        1.5         3  53a5b119ba8f7b61d4e010512e0dfc85   \n",
       "15        1.0         0  bfb9405149bfff42a92980b594c28234   \n",
       "\n",
       "                created                                        description  \\\n",
       "4   2016-06-16 05:55:27  Spacious 1 Bedroom 1 Bathroom in Williamsburg!...   \n",
       "6   2016-06-01 05:44:33  BRAND NEW GUT RENOVATED TRUE 2 BEDROOMFind you...   \n",
       "9   2016-06-14 15:19:59  **FLEX 2 BEDROOM WITH FULL PRESSURIZED WALL**L...   \n",
       "10  2016-06-24 07:54:24  A Brand New 3 Bedroom 1.5 bath ApartmentEnjoy ...   \n",
       "15  2016-06-28 03:50:23  Over-sized Studio w abundant closets. Availabl...   \n",
       "\n",
       "        display_address                                           features  \\\n",
       "4   145 Borinquen Place  [Dining Room, Pre-War, Laundry in Building, Di...   \n",
       "6             East 44th  [Doorman, Elevator, Laundry in Building, Dishw...   \n",
       "9      East 56th Street  [Doorman, Elevator, Laundry in Building, Laund...   \n",
       "10  Metropolitan Avenue                                                 []   \n",
       "15     East 34th Street  [Doorman, Elevator, Fitness Center, Laundry in...   \n",
       "\n",
       "    latitude  listing_id  longitude                        manager_id  \\\n",
       "4    40.7108     7170325   -73.9539  a10db4590843d78c784171a107bdacb4   \n",
       "6    40.7513     7092344   -73.9722  955db33477af4f40004820b4aed804a0   \n",
       "9    40.7575     7158677   -73.9625  c8b10a317b766204f08e613cef4ce7a0   \n",
       "10   40.7145     7211212   -73.9425  5ba989232d0489da1b5f2c45f6688adc   \n",
       "15   40.7439     7225292   -73.9743  2c3b41f588fbb5234d8a1e885a436cfa   \n",
       "\n",
       "                                               photos  price  \\\n",
       "4   [https://photos.renthop.com/2/7170325_3bb5ac84...   2400   \n",
       "6   [https://photos.renthop.com/2/7092344_7663c19a...   3800   \n",
       "9   [https://photos.renthop.com/2/7158677_c897a134...   3495   \n",
       "10  [https://photos.renthop.com/2/7211212_1ed4542e...   3000   \n",
       "15  [https://photos.renthop.com/2/7225292_901f1984...   2795   \n",
       "\n",
       "             street_address interest_level  id  \n",
       "4       145 Borinquen Place         medium   4  \n",
       "6             230 East 44th            low   6  \n",
       "9      405 East 56th Street         medium   9  \n",
       "10  792 Metropolitan Avenue         medium  10  \n",
       "15     340 East 34th Street            low  15  "
      ]
     },
     "execution_count": 4,
     "metadata": {},
     "output_type": "execute_result"
    }
   ],
   "source": [
    "df2['id'] = df2.index\n",
    "df2.set_index('id')\n",
    "df2.sort_index()\n",
    "df2.head()"
   ]
  },
  {
   "cell_type": "code",
   "execution_count": 5,
   "id": "849a29ef",
   "metadata": {},
   "outputs": [
    {
     "data": {
      "image/png": "[encoded data removed]",
      "text/plain": [
       "<Figure size 432x288 with 1 Axes>"
      ]
     },
     "metadata": {
      "needs_background": "light"
     },
     "output_type": "display_data"
    }
   ],
   "source": [
    "plt.hist(df2['price'])\n",
    "plt.xlabel(\"index\")\n",
    "plt.ylabel(\"price\")\n",
    "plt.title(\"Price distribution\")\n",
    "plt.show()"
   ]
  },
  {
   "cell_type": "code",
   "execution_count": 6,
   "id": "f0e1d84f",
   "metadata": {},
   "outputs": [
    {
     "data": {
      "image/png": "[encoded data removed]",
      "text/plain": [
       "<Figure size 432x288 with 1 Axes>"
      ]
     },
     "metadata": {
      "needs_background": "light"
     },
     "output_type": "display_data"
    }
   ],
   "source": [
    "plt.scatter(df2['id'],df2['price'])\n",
    "plt.xlabel(\"index\")\n",
    "plt.ylabel(\"price\")\n",
    "plt.title(\"Price distribution\")\n",
    "plt.show()"
   ]
  },
  {
   "cell_type": "code",
   "execution_count": 7,
   "id": "5e169a43",
   "metadata": {},
   "outputs": [
    {
     "data": {
      "image/png": "[encoded data removed]",
      "text/plain": [
       "<Figure size 432x288 with 1 Axes>"
      ]
     },
     "metadata": {
      "needs_background": "light"
     },
     "output_type": "display_data"
    }
   ],
   "source": [
    "#prices<=75% of prices\n",
    "plt.hist(df2[df2['price']<=details.loc['75%','price']]['price'],bins=70)\n",
    "plt.ylabel(\"Count\")\n",
    "plt.xlabel(\"price\")\n",
    "plt.show()"
   ]
  },
  {
   "cell_type": "code",
   "execution_count": 8,
   "id": "250667e7",
   "metadata": {},
   "outputs": [
    {
     "data": {
      "image/png": "[encoded data removed]",
      "text/plain": [
       "<Figure size 432x288 with 1 Axes>"
      ]
     },
     "metadata": {
      "needs_background": "light"
     },
     "output_type": "display_data"
    }
   ],
   "source": [
    "plt.hist(df2['latitude'],bins=50000)\n",
    "plt.xlim(40.70,40.78)\n",
    "plt.ylabel(\"Count\")\n",
    "plt.xlabel(\"Latitude\")\n",
    "plt.show()"
   ]
  },
  {
   "cell_type": "code",
   "execution_count": 9,
   "id": "e908f319",
   "metadata": {},
   "outputs": [
    {
     "data": {
      "image/png": "[encoded data removed]",
      "text/plain": [
       "<Figure size 432x288 with 1 Axes>"
      ]
     },
     "metadata": {
      "needs_background": "light"
     },
     "output_type": "display_data"
    }
   ],
   "source": [
    "plt.hist(df2['longitude'],bins=100000)\n",
    "plt.xlim(-74,-73.955)\n",
    "plt.ylabel(\"Count\")\n",
    "plt.xlabel(\"Longitude\")\n",
    "plt.show()"
   ]
  },
  {
   "cell_type": "code",
   "execution_count": 10,
   "id": "6f38d054",
   "metadata": {},
   "outputs": [
    {
     "data": {
      "image/png": "[encoded data removed]",
      "text/plain": [
       "<Figure size 432x288 with 1 Axes>"
      ]
     },
     "metadata": {
      "needs_background": "light"
     },
     "output_type": "display_data"
    }
   ],
   "source": [
    "#busiest hours\n",
    "time_created_df=pd.to_datetime(df2['created']).dt.hour\n",
    "plt.hist(time_created_df,bins=50)\n",
    "plt.xlabel(\"Hours\")\n",
    "plt.ylabel(\"Count of listings\")\n",
    "plt.show()"
   ]
  },
  {
   "cell_type": "code",
   "execution_count": 11,
   "id": "05757cc3",
   "metadata": {},
   "outputs": [
    {
     "data": {
      "text/html": [
       "<div>\n",
       "<style scoped>\n",
       "    .dataframe tbody tr th:only-of-type {\n",
       "        vertical-align: middle;\n",
       "    }\n",
       "\n",
       "    .dataframe tbody tr th {\n",
       "        vertical-align: top;\n",
       "    }\n",
       "\n",
       "    .dataframe thead th {\n",
       "        text-align: right;\n",
       "    }\n",
       "</style>\n",
       "<table border=\"1\" class=\"dataframe\">\n",
       "  <thead>\n",
       "    <tr style=\"text-align: right;\">\n",
       "      <th></th>\n",
       "      <th>bathrooms</th>\n",
       "      <th>bedrooms</th>\n",
       "      <th>building_id</th>\n",
       "      <th>created</th>\n",
       "      <th>description</th>\n",
       "      <th>display_address</th>\n",
       "      <th>features</th>\n",
       "      <th>latitude</th>\n",
       "      <th>listing_id</th>\n",
       "      <th>longitude</th>\n",
       "      <th>manager_id</th>\n",
       "      <th>photos</th>\n",
       "      <th>price</th>\n",
       "      <th>street_address</th>\n",
       "      <th>interest_level</th>\n",
       "      <th>id</th>\n",
       "    </tr>\n",
       "  </thead>\n",
       "  <tbody>\n",
       "    <tr>\n",
       "      <th>4</th>\n",
       "      <td>1.0</td>\n",
       "      <td>1</td>\n",
       "      <td>8579a0b0d54db803821a35a4a615e97a</td>\n",
       "      <td>2016-06-16 05:55:27</td>\n",
       "      <td>Spacious 1 Bedroom 1 Bathroom in Williamsburg!...</td>\n",
       "      <td>145 Borinquen Place</td>\n",
       "      <td>[Dining Room, Pre-War, Laundry in Building, Di...</td>\n",
       "      <td>40.7108</td>\n",
       "      <td>7170325</td>\n",
       "      <td>-73.9539</td>\n",
       "      <td>a10db4590843d78c784171a107bdacb4</td>\n",
       "      <td>[https://photos.renthop.com/2/7170325_3bb5ac84...</td>\n",
       "      <td>2400</td>\n",
       "      <td>145 Borinquen Place</td>\n",
       "      <td>medium</td>\n",
       "      <td>4</td>\n",
       "    </tr>\n",
       "  </tbody>\n",
       "</table>\n",
       "</div>"
      ],
      "text/plain": [
       "   bathrooms  bedrooms                       building_id              created  \\\n",
       "4        1.0         1  8579a0b0d54db803821a35a4a615e97a  2016-06-16 05:55:27   \n",
       "\n",
       "                                         description      display_address  \\\n",
       "4  Spacious 1 Bedroom 1 Bathroom in Williamsburg!...  145 Borinquen Place   \n",
       "\n",
       "                                            features  latitude  listing_id  \\\n",
       "4  [Dining Room, Pre-War, Laundry in Building, Di...   40.7108     7170325   \n",
       "\n",
       "   longitude                        manager_id  \\\n",
       "4   -73.9539  a10db4590843d78c784171a107bdacb4   \n",
       "\n",
       "                                              photos  price  \\\n",
       "4  [https://photos.renthop.com/2/7170325_3bb5ac84...   2400   \n",
       "\n",
       "        street_address interest_level  id  \n",
       "4  145 Borinquen Place         medium   4  "
      ]
     },
     "execution_count": 11,
     "metadata": {},
     "output_type": "execute_result"
    }
   ],
   "source": [
    "df2.head(1)"
   ]
  },
  {
   "cell_type": "code",
   "execution_count": 12,
   "id": "57f85188",
   "metadata": {},
   "outputs": [
    {
     "name": "stdout",
     "output_type": "stream",
     "text": [
      "bath_count 313\n",
      "bed_count 9475\n",
      "Building_id Count 8286\n",
      "Description Count 3666\n",
      "Display Address 137\n",
      "Features count 3218\n",
      "Interest Count 0\n",
      "Latitude Count 12\n",
      "Longitude Count 12\n",
      "Manager Id count 0\n",
      "Photo Count 3615\n",
      "Price Count 0\n",
      "Street Address count 10\n"
     ]
    }
   ],
   "source": [
    "#number of buildings with bathrooms count=0\n",
    "bath_count=df2[df2['bathrooms']==0]['bathrooms'].count()\n",
    "print(\"bath_count\",bath_count)\n",
    "\n",
    "#number of buildings with bedrooms count=0\n",
    "bed_count=df2[df2['bedrooms']==0]['bedrooms'].count()\n",
    "print(\"bed_count\",bed_count)\n",
    "\n",
    "#number of buildings with building_id=0\n",
    "\n",
    "building_id_count=df2[df2['building_id']=='0']['building_id'].count()\n",
    "print(\"Building_id Count\",building_id_count)\n",
    "\n",
    "#converting created to a datetime value\n",
    "\n",
    "df2['created']=pd.to_datetime(df2['created'])\n",
    "\n",
    "#number of empty descriptions or descriptions with empty html tags\n",
    "\n",
    "desc_stripped=df2['description'].str.strip()\n",
    "desc_empty_count=desc_stripped.where(desc_stripped=='').count()\n",
    "desc_empty_html_count=desc_stripped.where(desc_stripped=='<p><a  website_redacted').count()\n",
    "desc_count=desc_empty_count+desc_empty_html_count\n",
    "\n",
    "print(\"Description Count\",desc_count)\n",
    "\n",
    "#number of buildings with empty address\n",
    "\n",
    "d_add=df2['display_address'].str.strip()\n",
    "d_add_count=d_add.where(d_add=='').count()\n",
    "print(\"Display Address\",d_add_count)\n",
    "\n",
    "#number of buildings with no features\n",
    "\n",
    "features_count=df2[df2['features'].str.len()==0]['features'].count()\n",
    "print(\"Features count\",features_count)\n",
    "\n",
    "#number of empty or wrong interest levels\n",
    "\n",
    "low_df=df2[df2['interest_level']=='low']\n",
    "medium_df=df2[df2['interest_level']=='medium']\n",
    "high_df=df2[df2['interest_level']=='high']\n",
    "interest_count=df2['interest_level'].count()-(low_df['interest_level'].count()+medium_df['interest_level'].count()+high_df['interest_level'].count())\n",
    "\n",
    "print(\"Interest Count\",interest_count)\n",
    "\n",
    "#number of buildings with 0 latitude\n",
    "\n",
    "latitude_count=df2[df2['latitude']==0]['latitude'].count()\n",
    "print(\"Latitude Count\",latitude_count)\n",
    "\n",
    "#number of buildings with 0 longitude\n",
    "\n",
    "longitude_count=df2[df2['longitude']==0]['longitude'].count()\n",
    "print(\"Longitude Count\",longitude_count)\n",
    "\n",
    "#number of buildings with empty manager_id\n",
    "\n",
    "manager_id_df=df2['manager_id'].str.strip()\n",
    "manager_id_count=manager_id_df.where(manager_id_df=='').dropna().count()\n",
    "print(\"Manager Id count\",manager_id_count)\n",
    "\n",
    "#number of buildings with o photos\n",
    "photo_count=df2[df2['photos'].str.len()==0]['photos'].count()\n",
    "print(\"Photo Count\",photo_count)\n",
    "\n",
    "#number of buildings with zero price\n",
    "price_count=df2[df2['price']==0]['price'].count()\n",
    "print(\"Price Count\",price_count)\n",
    "\n",
    "# street address\n",
    "\n",
    "street_add=df2['street_address'].str.strip()\n",
    "street_add_count = street_add.where(street_add=='').count()\n",
    "print(\"Street Address count\",street_add_count)"
   ]
  },
  {
   "cell_type": "code",
   "execution_count": 13,
   "id": "b647c1f6",
   "metadata": {},
   "outputs": [
    {
     "data": {
      "text/plain": [
       "                           3333\n",
       "<p><a  website_redacted     333\n",
       "Name: description, dtype: int64"
      ]
     },
     "execution_count": 13,
     "metadata": {},
     "output_type": "execute_result"
    }
   ],
   "source": [
    "desc_stripped.value_counts().head(2)"
   ]
  },
  {
   "cell_type": "code",
   "execution_count": 14,
   "id": "1eab8a37",
   "metadata": {},
   "outputs": [
    {
     "data": {
      "text/plain": [
       "low       34284\n",
       "medium    11229\n",
       "high       3839\n",
       "Name: interest_level, dtype: int64"
      ]
     },
     "execution_count": 14,
     "metadata": {},
     "output_type": "execute_result"
    }
   ],
   "source": [
    "df2['interest_level'].value_counts(dropna='False')"
   ]
  },
  {
   "cell_type": "code",
   "execution_count": 15,
   "id": "53d3e33e",
   "metadata": {},
   "outputs": [],
   "source": [
    "import sklearn\n",
    "import seaborn as sns\n",
    "from scipy import stats\n",
    "import numpy as np"
   ]
  },
  {
   "cell_type": "code",
   "execution_count": 16,
   "id": "df356325",
   "metadata": {},
   "outputs": [
    {
     "name": "stdout",
     "output_type": "stream",
     "text": [
      "<class 'pandas.core.frame.DataFrame'>\n",
      "Int64Index: 49352 entries, 4 to 124009\n",
      "Data columns (total 16 columns):\n",
      " #   Column           Non-Null Count  Dtype         \n",
      "---  ------           --------------  -----         \n",
      " 0   bathrooms        49352 non-null  float64       \n",
      " 1   bedrooms         49352 non-null  int64         \n",
      " 2   building_id      49352 non-null  object        \n",
      " 3   created          49352 non-null  datetime64[ns]\n",
      " 4   description      49352 non-null  object        \n",
      " 5   display_address  49352 non-null  object        \n",
      " 6   features         49352 non-null  object        \n",
      " 7   latitude         49352 non-null  float64       \n",
      " 8   listing_id       49352 non-null  int64         \n",
      " 9   longitude        49352 non-null  float64       \n",
      " 10  manager_id       49352 non-null  object        \n",
      " 11  photos           49352 non-null  object        \n",
      " 12  price            49352 non-null  int64         \n",
      " 13  street_address   49352 non-null  object        \n",
      " 14  interest_level   49352 non-null  object        \n",
      " 15  id               49352 non-null  int64         \n",
      "dtypes: datetime64[ns](1), float64(3), int64(4), object(8)\n",
      "memory usage: 6.4+ MB\n"
     ]
    }
   ],
   "source": [
    "df2.info()"
   ]
  },
  {
   "cell_type": "code",
   "execution_count": 17,
   "id": "d76db53e",
   "metadata": {
    "scrolled": true
   },
   "outputs": [
    {
     "data": {
      "image/png": "[encoded data removed]",
      "text/plain": [
       "<Figure size 432x288 with 1 Axes>"
      ]
     },
     "metadata": {
      "needs_background": "light"
     },
     "output_type": "display_data"
    },
    {
     "data": {
      "text/plain": [
       "count    49039.000000\n",
       "mean         1.219917\n",
       "std          0.493546\n",
       "min          1.000000\n",
       "25%          1.000000\n",
       "50%          1.000000\n",
       "75%          1.000000\n",
       "max         10.000000\n",
       "Name: bathrooms, dtype: float64"
      ]
     },
     "execution_count": 17,
     "metadata": {},
     "output_type": "execute_result"
    }
   ],
   "source": [
    "#since there must be atleast 1 bathroom, so we need to discard all the data which contains 0 bathrooms\n",
    "new_df=df2[df2['bathrooms']>0]\n",
    "plt.scatter(list(new_df.index.values.tolist()),new_df['bathrooms'])\n",
    "plt.xlabel(\"Index\")\n",
    "plt.ylabel(\"Number of Bathrooms\")\n",
    "plt.show()\n",
    "new_df['bathrooms'].describe()"
   ]
  },
  {
   "cell_type": "code",
   "execution_count": 18,
   "id": "9136aeda",
   "metadata": {},
   "outputs": [
    {
     "data": {
      "text/html": [
       "<div>\n",
       "<style scoped>\n",
       "    .dataframe tbody tr th:only-of-type {\n",
       "        vertical-align: middle;\n",
       "    }\n",
       "\n",
       "    .dataframe tbody tr th {\n",
       "        vertical-align: top;\n",
       "    }\n",
       "\n",
       "    .dataframe thead th {\n",
       "        text-align: right;\n",
       "    }\n",
       "</style>\n",
       "<table border=\"1\" class=\"dataframe\">\n",
       "  <thead>\n",
       "    <tr style=\"text-align: right;\">\n",
       "      <th></th>\n",
       "      <th>bathrooms</th>\n",
       "      <th>bedrooms</th>\n",
       "      <th>latitude</th>\n",
       "      <th>listing_id</th>\n",
       "      <th>longitude</th>\n",
       "      <th>price</th>\n",
       "      <th>id</th>\n",
       "    </tr>\n",
       "  </thead>\n",
       "  <tbody>\n",
       "    <tr>\n",
       "      <th>count</th>\n",
       "      <td>1.0</td>\n",
       "      <td>1.0</td>\n",
       "      <td>1.0000</td>\n",
       "      <td>1.0</td>\n",
       "      <td>1.0000</td>\n",
       "      <td>1.0</td>\n",
       "      <td>1.0</td>\n",
       "    </tr>\n",
       "    <tr>\n",
       "      <th>mean</th>\n",
       "      <td>10.0</td>\n",
       "      <td>2.0</td>\n",
       "      <td>40.7633</td>\n",
       "      <td>6849204.0</td>\n",
       "      <td>-73.9849</td>\n",
       "      <td>3600.0</td>\n",
       "      <td>104459.0</td>\n",
       "    </tr>\n",
       "    <tr>\n",
       "      <th>std</th>\n",
       "      <td>NaN</td>\n",
       "      <td>NaN</td>\n",
       "      <td>NaN</td>\n",
       "      <td>NaN</td>\n",
       "      <td>NaN</td>\n",
       "      <td>NaN</td>\n",
       "      <td>NaN</td>\n",
       "    </tr>\n",
       "    <tr>\n",
       "      <th>min</th>\n",
       "      <td>10.0</td>\n",
       "      <td>2.0</td>\n",
       "      <td>40.7633</td>\n",
       "      <td>6849204.0</td>\n",
       "      <td>-73.9849</td>\n",
       "      <td>3600.0</td>\n",
       "      <td>104459.0</td>\n",
       "    </tr>\n",
       "    <tr>\n",
       "      <th>25%</th>\n",
       "      <td>10.0</td>\n",
       "      <td>2.0</td>\n",
       "      <td>40.7633</td>\n",
       "      <td>6849204.0</td>\n",
       "      <td>-73.9849</td>\n",
       "      <td>3600.0</td>\n",
       "      <td>104459.0</td>\n",
       "    </tr>\n",
       "    <tr>\n",
       "      <th>50%</th>\n",
       "      <td>10.0</td>\n",
       "      <td>2.0</td>\n",
       "      <td>40.7633</td>\n",
       "      <td>6849204.0</td>\n",
       "      <td>-73.9849</td>\n",
       "      <td>3600.0</td>\n",
       "      <td>104459.0</td>\n",
       "    </tr>\n",
       "    <tr>\n",
       "      <th>75%</th>\n",
       "      <td>10.0</td>\n",
       "      <td>2.0</td>\n",
       "      <td>40.7633</td>\n",
       "      <td>6849204.0</td>\n",
       "      <td>-73.9849</td>\n",
       "      <td>3600.0</td>\n",
       "      <td>104459.0</td>\n",
       "    </tr>\n",
       "    <tr>\n",
       "      <th>max</th>\n",
       "      <td>10.0</td>\n",
       "      <td>2.0</td>\n",
       "      <td>40.7633</td>\n",
       "      <td>6849204.0</td>\n",
       "      <td>-73.9849</td>\n",
       "      <td>3600.0</td>\n",
       "      <td>104459.0</td>\n",
       "    </tr>\n",
       "  </tbody>\n",
       "</table>\n",
       "</div>"
      ],
      "text/plain": [
       "       bathrooms  bedrooms  latitude  listing_id  longitude   price        id\n",
       "count        1.0       1.0    1.0000         1.0     1.0000     1.0       1.0\n",
       "mean        10.0       2.0   40.7633   6849204.0   -73.9849  3600.0  104459.0\n",
       "std          NaN       NaN       NaN         NaN        NaN     NaN       NaN\n",
       "min         10.0       2.0   40.7633   6849204.0   -73.9849  3600.0  104459.0\n",
       "25%         10.0       2.0   40.7633   6849204.0   -73.9849  3600.0  104459.0\n",
       "50%         10.0       2.0   40.7633   6849204.0   -73.9849  3600.0  104459.0\n",
       "75%         10.0       2.0   40.7633   6849204.0   -73.9849  3600.0  104459.0\n",
       "max         10.0       2.0   40.7633   6849204.0   -73.9849  3600.0  104459.0"
      ]
     },
     "execution_count": 18,
     "metadata": {},
     "output_type": "execute_result"
    }
   ],
   "source": [
    "new_df[new_df['bathrooms']==10].describe()"
   ]
  },
  {
   "cell_type": "code",
   "execution_count": 19,
   "id": "11cf1b05",
   "metadata": {},
   "outputs": [
    {
     "data": {
      "text/html": [
       "<div>\n",
       "<style scoped>\n",
       "    .dataframe tbody tr th:only-of-type {\n",
       "        vertical-align: middle;\n",
       "    }\n",
       "\n",
       "    .dataframe tbody tr th {\n",
       "        vertical-align: top;\n",
       "    }\n",
       "\n",
       "    .dataframe thead th {\n",
       "        text-align: right;\n",
       "    }\n",
       "</style>\n",
       "<table border=\"1\" class=\"dataframe\">\n",
       "  <thead>\n",
       "    <tr style=\"text-align: right;\">\n",
       "      <th></th>\n",
       "      <th>bathrooms</th>\n",
       "      <th>bedrooms</th>\n",
       "      <th>latitude</th>\n",
       "      <th>listing_id</th>\n",
       "      <th>longitude</th>\n",
       "      <th>price</th>\n",
       "      <th>id</th>\n",
       "    </tr>\n",
       "  </thead>\n",
       "  <tbody>\n",
       "    <tr>\n",
       "      <th>count</th>\n",
       "      <td>4.0</td>\n",
       "      <td>4.00</td>\n",
       "      <td>4.000000</td>\n",
       "      <td>4.000000e+00</td>\n",
       "      <td>4.000000</td>\n",
       "      <td>4.000000</td>\n",
       "      <td>4.000000</td>\n",
       "    </tr>\n",
       "    <tr>\n",
       "      <th>mean</th>\n",
       "      <td>6.0</td>\n",
       "      <td>5.25</td>\n",
       "      <td>40.762925</td>\n",
       "      <td>7.005858e+06</td>\n",
       "      <td>-73.966400</td>\n",
       "      <td>50250.000000</td>\n",
       "      <td>53952.250000</td>\n",
       "    </tr>\n",
       "    <tr>\n",
       "      <th>std</th>\n",
       "      <td>0.0</td>\n",
       "      <td>0.50</td>\n",
       "      <td>0.003034</td>\n",
       "      <td>1.067200e+05</td>\n",
       "      <td>0.010535</td>\n",
       "      <td>34121.107837</td>\n",
       "      <td>37597.381233</td>\n",
       "    </tr>\n",
       "    <tr>\n",
       "      <th>min</th>\n",
       "      <td>6.0</td>\n",
       "      <td>5.00</td>\n",
       "      <td>40.760300</td>\n",
       "      <td>6.881666e+06</td>\n",
       "      <td>-73.982200</td>\n",
       "      <td>28000.000000</td>\n",
       "      <td>13701.000000</td>\n",
       "    </tr>\n",
       "    <tr>\n",
       "      <th>25%</th>\n",
       "      <td>6.0</td>\n",
       "      <td>5.00</td>\n",
       "      <td>40.760300</td>\n",
       "      <td>6.934664e+06</td>\n",
       "      <td>-73.966600</td>\n",
       "      <td>28000.000000</td>\n",
       "      <td>26516.250000</td>\n",
       "    </tr>\n",
       "    <tr>\n",
       "      <th>50%</th>\n",
       "      <td>6.0</td>\n",
       "      <td>5.00</td>\n",
       "      <td>40.762850</td>\n",
       "      <td>7.020238e+06</td>\n",
       "      <td>-73.961200</td>\n",
       "      <td>36500.000000</td>\n",
       "      <td>55199.500000</td>\n",
       "    </tr>\n",
       "    <tr>\n",
       "      <th>75%</th>\n",
       "      <td>6.0</td>\n",
       "      <td>5.25</td>\n",
       "      <td>40.765475</td>\n",
       "      <td>7.091432e+06</td>\n",
       "      <td>-73.961000</td>\n",
       "      <td>58750.000000</td>\n",
       "      <td>82635.500000</td>\n",
       "    </tr>\n",
       "    <tr>\n",
       "      <th>max</th>\n",
       "      <td>6.0</td>\n",
       "      <td>6.00</td>\n",
       "      <td>40.765700</td>\n",
       "      <td>7.101290e+06</td>\n",
       "      <td>-73.961000</td>\n",
       "      <td>100000.000000</td>\n",
       "      <td>91709.000000</td>\n",
       "    </tr>\n",
       "  </tbody>\n",
       "</table>\n",
       "</div>"
      ],
      "text/plain": [
       "       bathrooms  bedrooms   latitude    listing_id  longitude          price  \\\n",
       "count        4.0      4.00   4.000000  4.000000e+00   4.000000       4.000000   \n",
       "mean         6.0      5.25  40.762925  7.005858e+06 -73.966400   50250.000000   \n",
       "std          0.0      0.50   0.003034  1.067200e+05   0.010535   34121.107837   \n",
       "min          6.0      5.00  40.760300  6.881666e+06 -73.982200   28000.000000   \n",
       "25%          6.0      5.00  40.760300  6.934664e+06 -73.966600   28000.000000   \n",
       "50%          6.0      5.00  40.762850  7.020238e+06 -73.961200   36500.000000   \n",
       "75%          6.0      5.25  40.765475  7.091432e+06 -73.961000   58750.000000   \n",
       "max          6.0      6.00  40.765700  7.101290e+06 -73.961000  100000.000000   \n",
       "\n",
       "                 id  \n",
       "count      4.000000  \n",
       "mean   53952.250000  \n",
       "std    37597.381233  \n",
       "min    13701.000000  \n",
       "25%    26516.250000  \n",
       "50%    55199.500000  \n",
       "75%    82635.500000  \n",
       "max    91709.000000  "
      ]
     },
     "execution_count": 19,
     "metadata": {},
     "output_type": "execute_result"
    }
   ],
   "source": [
    "new_df[new_df['bathrooms']==6].describe()"
   ]
  },
  {
   "cell_type": "code",
   "execution_count": 20,
   "id": "f29b0549",
   "metadata": {},
   "outputs": [
    {
     "data": {
      "image/png": "[encoded data removed]",
      "text/plain": [
       "<Figure size 432x288 with 1 Axes>"
      ]
     },
     "metadata": {
      "needs_background": "light"
     },
     "output_type": "display_data"
    },
    {
     "data": {
      "text/plain": [
       "count    49038.000000\n",
       "mean         1.219738\n",
       "std          0.491956\n",
       "min          1.000000\n",
       "25%          1.000000\n",
       "50%          1.000000\n",
       "75%          1.000000\n",
       "max          7.000000\n",
       "Name: bathrooms, dtype: float64"
      ]
     },
     "execution_count": 20,
     "metadata": {},
     "output_type": "execute_result"
    }
   ],
   "source": [
    "#since the price is to low compared to buildings with 6 bathrooms, so we can remove the outlier\n",
    "\n",
    "new_df=new_df[new_df['bathrooms']!=10]\n",
    "plt.scatter(list(new_df.index.values.tolist()),new_df['bathrooms'])\n",
    "plt.xlabel(\"Index\")\n",
    "plt.ylabel(\"Number of Bathrooms\")\n",
    "plt.show()\n",
    "new_df['bathrooms'].describe()"
   ]
  },
  {
   "cell_type": "code",
   "execution_count": 21,
   "id": "041d5486",
   "metadata": {},
   "outputs": [
    {
     "data": {
      "image/png": "[encoded data removed]",
      "text/plain": [
       "<Figure size 432x288 with 1 Axes>"
      ]
     },
     "metadata": {
      "needs_background": "light"
     },
     "output_type": "display_data"
    },
    {
     "data": {
      "text/plain": [
       "count    49038.000000\n",
       "mean         1.546046\n",
       "std          1.114282\n",
       "min          0.000000\n",
       "25%          1.000000\n",
       "50%          1.000000\n",
       "75%          2.000000\n",
       "max          8.000000\n",
       "Name: bedrooms, dtype: float64"
      ]
     },
     "execution_count": 21,
     "metadata": {},
     "output_type": "execute_result"
    }
   ],
   "source": [
    "#checkeing for bedrooms\n",
    "plt.scatter(list(new_df.index.values.tolist()),new_df['bedrooms'])\n",
    "plt.xlabel(\"Index\")\n",
    "plt.ylabel(\"Number of Bedrooms\")\n",
    "plt.show()\n",
    "new_df['bedrooms'].describe()"
   ]
  },
  {
   "cell_type": "code",
   "execution_count": 22,
   "id": "843c2121",
   "metadata": {},
   "outputs": [
    {
     "data": {
      "text/plain": [
       "<AxesSubplot:xlabel='bedrooms'>"
      ]
     },
     "execution_count": 22,
     "metadata": {},
     "output_type": "execute_result"
    },
    {
     "data": {
      "image/png": "[encoded data removed]",
      "text/plain": [
       "<Figure size 432x288 with 1 Axes>"
      ]
     },
     "metadata": {
      "needs_background": "light"
     },
     "output_type": "display_data"
    }
   ],
   "source": [
    "sns.boxplot(x=new_df['bedrooms'])\n",
    "# we found that most of the data is in between 0 and 3"
   ]
  },
  {
   "cell_type": "code",
   "execution_count": 23,
   "id": "2f0feada",
   "metadata": {},
   "outputs": [
    {
     "data": {
      "text/html": [
       "<div>\n",
       "<style scoped>\n",
       "    .dataframe tbody tr th:only-of-type {\n",
       "        vertical-align: middle;\n",
       "    }\n",
       "\n",
       "    .dataframe tbody tr th {\n",
       "        vertical-align: top;\n",
       "    }\n",
       "\n",
       "    .dataframe thead th {\n",
       "        text-align: right;\n",
       "    }\n",
       "</style>\n",
       "<table border=\"1\" class=\"dataframe\">\n",
       "  <thead>\n",
       "    <tr style=\"text-align: right;\">\n",
       "      <th></th>\n",
       "      <th>bathrooms</th>\n",
       "      <th>bedrooms</th>\n",
       "      <th>latitude</th>\n",
       "      <th>listing_id</th>\n",
       "      <th>longitude</th>\n",
       "      <th>price</th>\n",
       "      <th>id</th>\n",
       "    </tr>\n",
       "  </thead>\n",
       "  <tbody>\n",
       "    <tr>\n",
       "      <th>count</th>\n",
       "      <td>2223.000000</td>\n",
       "      <td>2223.000000</td>\n",
       "      <td>2223.000000</td>\n",
       "      <td>2.223000e+03</td>\n",
       "      <td>2223.000000</td>\n",
       "      <td>2223.000000</td>\n",
       "      <td>2223.000000</td>\n",
       "    </tr>\n",
       "    <tr>\n",
       "      <th>mean</th>\n",
       "      <td>2.147548</td>\n",
       "      <td>4.158794</td>\n",
       "      <td>40.735678</td>\n",
       "      <td>7.028155e+06</td>\n",
       "      <td>-73.936625</td>\n",
       "      <td>7449.375169</td>\n",
       "      <td>60685.197481</td>\n",
       "    </tr>\n",
       "    <tr>\n",
       "      <th>std</th>\n",
       "      <td>0.883289</td>\n",
       "      <td>0.437315</td>\n",
       "      <td>0.865308</td>\n",
       "      <td>1.221331e+05</td>\n",
       "      <td>1.569617</td>\n",
       "      <td>5981.226182</td>\n",
       "      <td>35086.746261</td>\n",
       "    </tr>\n",
       "    <tr>\n",
       "      <th>min</th>\n",
       "      <td>1.000000</td>\n",
       "      <td>4.000000</td>\n",
       "      <td>0.000000</td>\n",
       "      <td>6.812493e+06</td>\n",
       "      <td>-74.216000</td>\n",
       "      <td>1025.000000</td>\n",
       "      <td>89.000000</td>\n",
       "    </tr>\n",
       "    <tr>\n",
       "      <th>25%</th>\n",
       "      <td>2.000000</td>\n",
       "      <td>4.000000</td>\n",
       "      <td>40.729500</td>\n",
       "      <td>6.923901e+06</td>\n",
       "      <td>-73.985900</td>\n",
       "      <td>5000.000000</td>\n",
       "      <td>30628.000000</td>\n",
       "    </tr>\n",
       "    <tr>\n",
       "      <th>50%</th>\n",
       "      <td>2.000000</td>\n",
       "      <td>4.000000</td>\n",
       "      <td>40.753000</td>\n",
       "      <td>7.027933e+06</td>\n",
       "      <td>-73.972500</td>\n",
       "      <td>6000.000000</td>\n",
       "      <td>60032.000000</td>\n",
       "    </tr>\n",
       "    <tr>\n",
       "      <th>75%</th>\n",
       "      <td>2.000000</td>\n",
       "      <td>4.000000</td>\n",
       "      <td>40.780100</td>\n",
       "      <td>7.127240e+06</td>\n",
       "      <td>-73.954700</td>\n",
       "      <td>7495.000000</td>\n",
       "      <td>89744.500000</td>\n",
       "    </tr>\n",
       "    <tr>\n",
       "      <th>max</th>\n",
       "      <td>7.000000</td>\n",
       "      <td>8.000000</td>\n",
       "      <td>40.969700</td>\n",
       "      <td>7.558950e+06</td>\n",
       "      <td>0.000000</td>\n",
       "      <td>100000.000000</td>\n",
       "      <td>123909.000000</td>\n",
       "    </tr>\n",
       "  </tbody>\n",
       "</table>\n",
       "</div>"
      ],
      "text/plain": [
       "         bathrooms     bedrooms     latitude    listing_id    longitude  \\\n",
       "count  2223.000000  2223.000000  2223.000000  2.223000e+03  2223.000000   \n",
       "mean      2.147548     4.158794    40.735678  7.028155e+06   -73.936625   \n",
       "std       0.883289     0.437315     0.865308  1.221331e+05     1.569617   \n",
       "min       1.000000     4.000000     0.000000  6.812493e+06   -74.216000   \n",
       "25%       2.000000     4.000000    40.729500  6.923901e+06   -73.985900   \n",
       "50%       2.000000     4.000000    40.753000  7.027933e+06   -73.972500   \n",
       "75%       2.000000     4.000000    40.780100  7.127240e+06   -73.954700   \n",
       "max       7.000000     8.000000    40.969700  7.558950e+06     0.000000   \n",
       "\n",
       "               price             id  \n",
       "count    2223.000000    2223.000000  \n",
       "mean     7449.375169   60685.197481  \n",
       "std      5981.226182   35086.746261  \n",
       "min      1025.000000      89.000000  \n",
       "25%      5000.000000   30628.000000  \n",
       "50%      6000.000000   60032.000000  \n",
       "75%      7495.000000   89744.500000  \n",
       "max    100000.000000  123909.000000  "
      ]
     },
     "execution_count": 23,
     "metadata": {},
     "output_type": "execute_result"
    }
   ],
   "source": [
    "new_df[new_df['bedrooms']>3].describe()"
   ]
  },
  {
   "cell_type": "code",
   "execution_count": 24,
   "id": "c05cd244",
   "metadata": {},
   "outputs": [
    {
     "data": {
      "text/html": [
       "<div>\n",
       "<style scoped>\n",
       "    .dataframe tbody tr th:only-of-type {\n",
       "        vertical-align: middle;\n",
       "    }\n",
       "\n",
       "    .dataframe tbody tr th {\n",
       "        vertical-align: top;\n",
       "    }\n",
       "\n",
       "    .dataframe thead th {\n",
       "        text-align: right;\n",
       "    }\n",
       "</style>\n",
       "<table border=\"1\" class=\"dataframe\">\n",
       "  <thead>\n",
       "    <tr style=\"text-align: right;\">\n",
       "      <th></th>\n",
       "      <th>bathrooms</th>\n",
       "      <th>bedrooms</th>\n",
       "      <th>latitude</th>\n",
       "      <th>listing_id</th>\n",
       "      <th>longitude</th>\n",
       "      <th>price</th>\n",
       "      <th>id</th>\n",
       "    </tr>\n",
       "  </thead>\n",
       "  <tbody>\n",
       "    <tr>\n",
       "      <th>count</th>\n",
       "      <td>46815.000000</td>\n",
       "      <td>46815.000000</td>\n",
       "      <td>46815.000000</td>\n",
       "      <td>4.681500e+04</td>\n",
       "      <td>46815.000000</td>\n",
       "      <td>4.681500e+04</td>\n",
       "      <td>46815.000000</td>\n",
       "    </tr>\n",
       "    <tr>\n",
       "      <th>mean</th>\n",
       "      <td>1.175681</td>\n",
       "      <td>1.421980</td>\n",
       "      <td>40.741725</td>\n",
       "      <td>7.023843e+06</td>\n",
       "      <td>-73.956522</td>\n",
       "      <td>3.657176e+03</td>\n",
       "      <td>62143.683435</td>\n",
       "    </tr>\n",
       "    <tr>\n",
       "      <th>std</th>\n",
       "      <td>0.416729</td>\n",
       "      <td>0.975681</td>\n",
       "      <td>0.627908</td>\n",
       "      <td>1.265061e+05</td>\n",
       "      <td>1.160045</td>\n",
       "      <td>2.259487e+04</td>\n",
       "      <td>35810.635678</td>\n",
       "    </tr>\n",
       "    <tr>\n",
       "      <th>min</th>\n",
       "      <td>1.000000</td>\n",
       "      <td>0.000000</td>\n",
       "      <td>0.000000</td>\n",
       "      <td>6.811957e+06</td>\n",
       "      <td>-118.271000</td>\n",
       "      <td>4.300000e+01</td>\n",
       "      <td>4.000000</td>\n",
       "    </tr>\n",
       "    <tr>\n",
       "      <th>25%</th>\n",
       "      <td>1.000000</td>\n",
       "      <td>1.000000</td>\n",
       "      <td>40.728200</td>\n",
       "      <td>6.915586e+06</td>\n",
       "      <td>-73.991900</td>\n",
       "      <td>2.475000e+03</td>\n",
       "      <td>31140.000000</td>\n",
       "    </tr>\n",
       "    <tr>\n",
       "      <th>50%</th>\n",
       "      <td>1.000000</td>\n",
       "      <td>1.000000</td>\n",
       "      <td>40.751800</td>\n",
       "      <td>7.020595e+06</td>\n",
       "      <td>-73.978100</td>\n",
       "      <td>3.095000e+03</td>\n",
       "      <td>62199.000000</td>\n",
       "    </tr>\n",
       "    <tr>\n",
       "      <th>75%</th>\n",
       "      <td>1.000000</td>\n",
       "      <td>2.000000</td>\n",
       "      <td>40.774000</td>\n",
       "      <td>7.128522e+06</td>\n",
       "      <td>-73.954800</td>\n",
       "      <td>3.970000e+03</td>\n",
       "      <td>93142.500000</td>\n",
       "    </tr>\n",
       "    <tr>\n",
       "      <th>max</th>\n",
       "      <td>4.500000</td>\n",
       "      <td>3.000000</td>\n",
       "      <td>44.883500</td>\n",
       "      <td>7.753784e+06</td>\n",
       "      <td>0.000000</td>\n",
       "      <td>4.490000e+06</td>\n",
       "      <td>124009.000000</td>\n",
       "    </tr>\n",
       "  </tbody>\n",
       "</table>\n",
       "</div>"
      ],
      "text/plain": [
       "          bathrooms      bedrooms      latitude    listing_id     longitude  \\\n",
       "count  46815.000000  46815.000000  46815.000000  4.681500e+04  46815.000000   \n",
       "mean       1.175681      1.421980     40.741725  7.023843e+06    -73.956522   \n",
       "std        0.416729      0.975681      0.627908  1.265061e+05      1.160045   \n",
       "min        1.000000      0.000000      0.000000  6.811957e+06   -118.271000   \n",
       "25%        1.000000      1.000000     40.728200  6.915586e+06    -73.991900   \n",
       "50%        1.000000      1.000000     40.751800  7.020595e+06    -73.978100   \n",
       "75%        1.000000      2.000000     40.774000  7.128522e+06    -73.954800   \n",
       "max        4.500000      3.000000     44.883500  7.753784e+06      0.000000   \n",
       "\n",
       "              price             id  \n",
       "count  4.681500e+04   46815.000000  \n",
       "mean   3.657176e+03   62143.683435  \n",
       "std    2.259487e+04   35810.635678  \n",
       "min    4.300000e+01       4.000000  \n",
       "25%    2.475000e+03   31140.000000  \n",
       "50%    3.095000e+03   62199.000000  \n",
       "75%    3.970000e+03   93142.500000  \n",
       "max    4.490000e+06  124009.000000  "
      ]
     },
     "execution_count": 24,
     "metadata": {},
     "output_type": "execute_result"
    }
   ],
   "source": [
    "new_df[new_df['bedrooms']<=3].describe()\n",
    "#we can absorve that price also increased so the data is valid"
   ]
  },
  {
   "cell_type": "code",
   "execution_count": 25,
   "id": "5f3ce52b",
   "metadata": {},
   "outputs": [
    {
     "data": {
      "text/plain": [
       "<AxesSubplot:xlabel='building_id'>"
      ]
     },
     "execution_count": 25,
     "metadata": {},
     "output_type": "execute_result"
    },
    {
     "data": {
      "image/png": "[encoded data removed]",
      "text/plain": [
       "<Figure size 432x288 with 1 Axes>"
      ]
     },
     "metadata": {
      "needs_background": "light"
     },
     "output_type": "display_data"
    }
   ],
   "source": [
    "sns.boxplot(x=new_df['building_id'].str.len())"
   ]
  },
  {
   "cell_type": "code",
   "execution_count": 26,
   "id": "a6ffc9bf",
   "metadata": {},
   "outputs": [
    {
     "data": {
      "text/plain": [
       "8265"
      ]
     },
     "execution_count": 26,
     "metadata": {},
     "output_type": "execute_result"
    }
   ],
   "source": [
    "new_df[new_df['building_id'].str.len()!=32]['building_id'].count()"
   ]
  },
  {
   "cell_type": "code",
   "execution_count": 27,
   "id": "a32598e4",
   "metadata": {},
   "outputs": [
    {
     "data": {
      "image/png": "[encoded data removed]",
      "text/plain": [
       "<Figure size 432x288 with 1 Axes>"
      ]
     },
     "metadata": {
      "needs_background": "light"
     },
     "output_type": "display_data"
    },
    {
     "data": {
      "text/plain": [
       "count    49026.000000\n",
       "mean        40.751423\n",
       "std          0.063524\n",
       "min         34.012600\n",
       "25%         40.728300\n",
       "50%         40.751800\n",
       "75%         40.774300\n",
       "max         44.883500\n",
       "Name: latitude, dtype: float64"
      ]
     },
     "execution_count": 27,
     "metadata": {},
     "output_type": "execute_result"
    }
   ],
   "source": [
    "#We found the ranges of latitude and longitude cities in US are:\n",
    "#Latitude from 19.50139 to 64.85694\n",
    "#longitude from -161.75583 to -68.01197\n",
    "temp_df=new_df['latitude'].loc[(new_df['latitude']>=19.50139) & (new_df['latitude']<=64.85694)]\n",
    "plt.scatter(list(temp_df.index.values.tolist()),temp_df)\n",
    "plt.xlabel(\"Index\")\n",
    "plt.ylabel(\"Latitude\")\n",
    "plt.show()\n",
    "temp_df.describe()"
   ]
  },
  {
   "cell_type": "code",
   "execution_count": 28,
   "id": "6bcbb371",
   "metadata": {},
   "outputs": [
    {
     "data": {
      "image/png": "[encoded data removed]",
      "text/plain": [
       "<Figure size 432x288 with 1 Axes>"
      ]
     },
     "metadata": {
      "needs_background": "light"
     },
     "output_type": "display_data"
    },
    {
     "data": {
      "text/plain": [
       "count    49026.000000\n",
       "mean       -73.973722\n",
       "std          0.239996\n",
       "min       -118.271000\n",
       "25%        -73.991700\n",
       "50%        -73.977900\n",
       "75%        -73.954800\n",
       "max        -70.984600\n",
       "Name: longitude, dtype: float64"
      ]
     },
     "execution_count": 28,
     "metadata": {},
     "output_type": "execute_result"
    }
   ],
   "source": [
    "temp1_df=new_df['longitude'].loc[(new_df['longitude']<=-68.01197) & (new_df['longitude']>=-161.75583)]\n",
    "plt.scatter(list(temp1_df.index.values.tolist()),temp1_df)\n",
    "plt.xlabel(\"Index\")\n",
    "plt.ylabel(\"Longitude\")\n",
    "plt.show()\n",
    "temp1_df.describe()"
   ]
  },
  {
   "cell_type": "code",
   "execution_count": 29,
   "id": "7df59620",
   "metadata": {},
   "outputs": [
    {
     "data": {
      "text/html": [
       "<div>\n",
       "<style scoped>\n",
       "    .dataframe tbody tr th:only-of-type {\n",
       "        vertical-align: middle;\n",
       "    }\n",
       "\n",
       "    .dataframe tbody tr th {\n",
       "        vertical-align: top;\n",
       "    }\n",
       "\n",
       "    .dataframe thead th {\n",
       "        text-align: right;\n",
       "    }\n",
       "</style>\n",
       "<table border=\"1\" class=\"dataframe\">\n",
       "  <thead>\n",
       "    <tr style=\"text-align: right;\">\n",
       "      <th></th>\n",
       "      <th>bathrooms</th>\n",
       "      <th>bedrooms</th>\n",
       "      <th>building_id</th>\n",
       "      <th>created</th>\n",
       "      <th>description</th>\n",
       "      <th>display_address</th>\n",
       "      <th>features</th>\n",
       "      <th>latitude</th>\n",
       "      <th>listing_id</th>\n",
       "      <th>longitude</th>\n",
       "      <th>...</th>\n",
       "      <th>price</th>\n",
       "      <th>street_address</th>\n",
       "      <th>interest_level</th>\n",
       "      <th>id</th>\n",
       "      <th>num_photos</th>\n",
       "      <th>num_features</th>\n",
       "      <th>num_description_words</th>\n",
       "      <th>created_year</th>\n",
       "      <th>created_month</th>\n",
       "      <th>created_day</th>\n",
       "    </tr>\n",
       "  </thead>\n",
       "  <tbody>\n",
       "    <tr>\n",
       "      <th>4</th>\n",
       "      <td>1.0</td>\n",
       "      <td>1</td>\n",
       "      <td>8579a0b0d54db803821a35a4a615e97a</td>\n",
       "      <td>2016-06-16 05:55:27</td>\n",
       "      <td>Spacious 1 Bedroom 1 Bathroom in Williamsburg!...</td>\n",
       "      <td>145 Borinquen Place</td>\n",
       "      <td>[Dining Room, Pre-War, Laundry in Building, Di...</td>\n",
       "      <td>40.7108</td>\n",
       "      <td>7170325</td>\n",
       "      <td>-73.9539</td>\n",
       "      <td>...</td>\n",
       "      <td>2400</td>\n",
       "      <td>145 Borinquen Place</td>\n",
       "      <td>medium</td>\n",
       "      <td>4</td>\n",
       "      <td>12</td>\n",
       "      <td>7</td>\n",
       "      <td>77</td>\n",
       "      <td>2016</td>\n",
       "      <td>6</td>\n",
       "      <td>16</td>\n",
       "    </tr>\n",
       "    <tr>\n",
       "      <th>6</th>\n",
       "      <td>1.0</td>\n",
       "      <td>2</td>\n",
       "      <td>b8e75fc949a6cd8225b455648a951712</td>\n",
       "      <td>2016-06-01 05:44:33</td>\n",
       "      <td>BRAND NEW GUT RENOVATED TRUE 2 BEDROOMFind you...</td>\n",
       "      <td>East 44th</td>\n",
       "      <td>[Doorman, Elevator, Laundry in Building, Dishw...</td>\n",
       "      <td>40.7513</td>\n",
       "      <td>7092344</td>\n",
       "      <td>-73.9722</td>\n",
       "      <td>...</td>\n",
       "      <td>3800</td>\n",
       "      <td>230 East 44th</td>\n",
       "      <td>low</td>\n",
       "      <td>6</td>\n",
       "      <td>6</td>\n",
       "      <td>6</td>\n",
       "      <td>131</td>\n",
       "      <td>2016</td>\n",
       "      <td>6</td>\n",
       "      <td>1</td>\n",
       "    </tr>\n",
       "    <tr>\n",
       "      <th>9</th>\n",
       "      <td>1.0</td>\n",
       "      <td>2</td>\n",
       "      <td>cd759a988b8f23924b5a2058d5ab2b49</td>\n",
       "      <td>2016-06-14 15:19:59</td>\n",
       "      <td>**FLEX 2 BEDROOM WITH FULL PRESSURIZED WALL**L...</td>\n",
       "      <td>East 56th Street</td>\n",
       "      <td>[Doorman, Elevator, Laundry in Building, Laund...</td>\n",
       "      <td>40.7575</td>\n",
       "      <td>7158677</td>\n",
       "      <td>-73.9625</td>\n",
       "      <td>...</td>\n",
       "      <td>3495</td>\n",
       "      <td>405 East 56th Street</td>\n",
       "      <td>medium</td>\n",
       "      <td>9</td>\n",
       "      <td>6</td>\n",
       "      <td>6</td>\n",
       "      <td>119</td>\n",
       "      <td>2016</td>\n",
       "      <td>6</td>\n",
       "      <td>14</td>\n",
       "    </tr>\n",
       "    <tr>\n",
       "      <th>15</th>\n",
       "      <td>1.0</td>\n",
       "      <td>0</td>\n",
       "      <td>bfb9405149bfff42a92980b594c28234</td>\n",
       "      <td>2016-06-28 03:50:23</td>\n",
       "      <td>Over-sized Studio w abundant closets. Availabl...</td>\n",
       "      <td>East 34th Street</td>\n",
       "      <td>[Doorman, Elevator, Fitness Center, Laundry in...</td>\n",
       "      <td>40.7439</td>\n",
       "      <td>7225292</td>\n",
       "      <td>-73.9743</td>\n",
       "      <td>...</td>\n",
       "      <td>2795</td>\n",
       "      <td>340 East 34th Street</td>\n",
       "      <td>low</td>\n",
       "      <td>15</td>\n",
       "      <td>4</td>\n",
       "      <td>4</td>\n",
       "      <td>41</td>\n",
       "      <td>2016</td>\n",
       "      <td>6</td>\n",
       "      <td>28</td>\n",
       "    </tr>\n",
       "    <tr>\n",
       "      <th>16</th>\n",
       "      <td>1.0</td>\n",
       "      <td>3</td>\n",
       "      <td>300d27d8ba2adbcbc8c6f2bcbc1c6f9d</td>\n",
       "      <td>2016-06-28 05:59:06</td>\n",
       "      <td>This spectacular converted 3 bed apartment all...</td>\n",
       "      <td>East 16th Street</td>\n",
       "      <td>[Doorman, Elevator, Loft, Dishwasher, Hardwood...</td>\n",
       "      <td>40.7348</td>\n",
       "      <td>7226687</td>\n",
       "      <td>-73.9865</td>\n",
       "      <td>...</td>\n",
       "      <td>7200</td>\n",
       "      <td>145 East 16th Street</td>\n",
       "      <td>low</td>\n",
       "      <td>16</td>\n",
       "      <td>5</td>\n",
       "      <td>6</td>\n",
       "      <td>132</td>\n",
       "      <td>2016</td>\n",
       "      <td>6</td>\n",
       "      <td>28</td>\n",
       "    </tr>\n",
       "  </tbody>\n",
       "</table>\n",
       "<p>5 rows × 22 columns</p>\n",
       "</div>"
      ],
      "text/plain": [
       "    bathrooms  bedrooms                       building_id             created  \\\n",
       "4         1.0         1  8579a0b0d54db803821a35a4a615e97a 2016-06-16 05:55:27   \n",
       "6         1.0         2  b8e75fc949a6cd8225b455648a951712 2016-06-01 05:44:33   \n",
       "9         1.0         2  cd759a988b8f23924b5a2058d5ab2b49 2016-06-14 15:19:59   \n",
       "15        1.0         0  bfb9405149bfff42a92980b594c28234 2016-06-28 03:50:23   \n",
       "16        1.0         3  300d27d8ba2adbcbc8c6f2bcbc1c6f9d 2016-06-28 05:59:06   \n",
       "\n",
       "                                          description      display_address  \\\n",
       "4   Spacious 1 Bedroom 1 Bathroom in Williamsburg!...  145 Borinquen Place   \n",
       "6   BRAND NEW GUT RENOVATED TRUE 2 BEDROOMFind you...            East 44th   \n",
       "9   **FLEX 2 BEDROOM WITH FULL PRESSURIZED WALL**L...     East 56th Street   \n",
       "15  Over-sized Studio w abundant closets. Availabl...     East 34th Street   \n",
       "16  This spectacular converted 3 bed apartment all...     East 16th Street   \n",
       "\n",
       "                                             features  latitude  listing_id  \\\n",
       "4   [Dining Room, Pre-War, Laundry in Building, Di...   40.7108     7170325   \n",
       "6   [Doorman, Elevator, Laundry in Building, Dishw...   40.7513     7092344   \n",
       "9   [Doorman, Elevator, Laundry in Building, Laund...   40.7575     7158677   \n",
       "15  [Doorman, Elevator, Fitness Center, Laundry in...   40.7439     7225292   \n",
       "16  [Doorman, Elevator, Loft, Dishwasher, Hardwood...   40.7348     7226687   \n",
       "\n",
       "    longitude  ... price        street_address  interest_level  id num_photos  \\\n",
       "4    -73.9539  ...  2400   145 Borinquen Place          medium   4         12   \n",
       "6    -73.9722  ...  3800         230 East 44th             low   6          6   \n",
       "9    -73.9625  ...  3495  405 East 56th Street          medium   9          6   \n",
       "15   -73.9743  ...  2795  340 East 34th Street             low  15          4   \n",
       "16   -73.9865  ...  7200  145 East 16th Street             low  16          5   \n",
       "\n",
       "    num_features  num_description_words  created_year  created_month  \\\n",
       "4              7                     77          2016              6   \n",
       "6              6                    131          2016              6   \n",
       "9              6                    119          2016              6   \n",
       "15             4                     41          2016              6   \n",
       "16             6                    132          2016              6   \n",
       "\n",
       "    created_day  \n",
       "4            16  \n",
       "6             1  \n",
       "9            14  \n",
       "15           28  \n",
       "16           28  \n",
       "\n",
       "[5 rows x 22 columns]"
      ]
     },
     "execution_count": 29,
     "metadata": {},
     "output_type": "execute_result"
    }
   ],
   "source": [
    "final_df=df2.loc[(df2['bathrooms'] > 0) & (df2['bathrooms'] != 10)]\n",
    "final_df=final_df.loc[(final_df['latitude'] >= 19.50139) & (final_df['latitude'] <= 64.85694)]\n",
    "final_df=final_df.loc[(final_df['longitude'] >= -161.75583) & (final_df['longitude'] <= -68.01197)]\n",
    "final_df=final_df[(final_df['description'] != '') & (final_df['description'] != '<p><a  website_redacted')]\n",
    "final_df=final_df[final_df['display_address'] != '']\n",
    "final_df=final_df[final_df['features'].str.len() > 0]\n",
    "final_df=final_df[(final_df['interest_level'] == 'low') | (final_df['interest_level'] == 'medium') | (final_df['interest_level'] == 'high')]\n",
    "\n",
    "final_df=final_df[final_df['latitude'] != 0]\n",
    "final_df=final_df[final_df['longitude'] != 0]\n",
    "final_df=final_df[final_df['photos'].str.len() > 0]\n",
    "final_df=final_df[final_df['street_address'].str.len() > 0]\n",
    "final_df['num_photos']=final_df['photos'].str.len()\n",
    "final_df[\"num_features\"]=final_df[\"features\"].apply(len)\n",
    "final_df[\"num_description_words\"]=final_df[\"description\"].apply(lambda x: len(x.split(\" \")))\n",
    "final_df[\"created\"]=pd.to_datetime(final_df[\"created\"])\n",
    "final_df[\"created_year\"]=final_df[\"created\"].dt.year\n",
    "final_df[\"created_month\"]=final_df[\"created\"].dt.month\n",
    "final_df[\"created_day\"]=final_df[\"created\"].dt.day\n",
    "\n",
    "mapping={'low':1,'medium':2,'high':3}\n",
    "final_df.replace({'interest_level': mapping})\n",
    "\n",
    "final_df.head()"
   ]
  },
  {
   "cell_type": "code",
   "execution_count": 30,
   "id": "6d96bdea",
   "metadata": {
    "scrolled": true
   },
   "outputs": [
    {
     "data": {
      "text/html": [
       "<div>\n",
       "<style scoped>\n",
       "    .dataframe tbody tr th:only-of-type {\n",
       "        vertical-align: middle;\n",
       "    }\n",
       "\n",
       "    .dataframe tbody tr th {\n",
       "        vertical-align: top;\n",
       "    }\n",
       "\n",
       "    .dataframe thead th {\n",
       "        text-align: right;\n",
       "    }\n",
       "</style>\n",
       "<table border=\"1\" class=\"dataframe\">\n",
       "  <thead>\n",
       "    <tr style=\"text-align: right;\">\n",
       "      <th></th>\n",
       "      <th>bathrooms</th>\n",
       "      <th>bedrooms</th>\n",
       "      <th>latitude</th>\n",
       "      <th>longitude</th>\n",
       "      <th>price</th>\n",
       "      <th>num_photos</th>\n",
       "      <th>num_features</th>\n",
       "      <th>num_description_words</th>\n",
       "      <th>created_year</th>\n",
       "      <th>created_month</th>\n",
       "      <th>created_day</th>\n",
       "    </tr>\n",
       "  </thead>\n",
       "  <tbody>\n",
       "    <tr>\n",
       "      <th>4</th>\n",
       "      <td>1.0</td>\n",
       "      <td>1</td>\n",
       "      <td>40.7108</td>\n",
       "      <td>-73.9539</td>\n",
       "      <td>2400</td>\n",
       "      <td>12</td>\n",
       "      <td>7</td>\n",
       "      <td>77</td>\n",
       "      <td>2016</td>\n",
       "      <td>6</td>\n",
       "      <td>16</td>\n",
       "    </tr>\n",
       "    <tr>\n",
       "      <th>6</th>\n",
       "      <td>1.0</td>\n",
       "      <td>2</td>\n",
       "      <td>40.7513</td>\n",
       "      <td>-73.9722</td>\n",
       "      <td>3800</td>\n",
       "      <td>6</td>\n",
       "      <td>6</td>\n",
       "      <td>131</td>\n",
       "      <td>2016</td>\n",
       "      <td>6</td>\n",
       "      <td>1</td>\n",
       "    </tr>\n",
       "    <tr>\n",
       "      <th>9</th>\n",
       "      <td>1.0</td>\n",
       "      <td>2</td>\n",
       "      <td>40.7575</td>\n",
       "      <td>-73.9625</td>\n",
       "      <td>3495</td>\n",
       "      <td>6</td>\n",
       "      <td>6</td>\n",
       "      <td>119</td>\n",
       "      <td>2016</td>\n",
       "      <td>6</td>\n",
       "      <td>14</td>\n",
       "    </tr>\n",
       "    <tr>\n",
       "      <th>15</th>\n",
       "      <td>1.0</td>\n",
       "      <td>0</td>\n",
       "      <td>40.7439</td>\n",
       "      <td>-73.9743</td>\n",
       "      <td>2795</td>\n",
       "      <td>4</td>\n",
       "      <td>4</td>\n",
       "      <td>41</td>\n",
       "      <td>2016</td>\n",
       "      <td>6</td>\n",
       "      <td>28</td>\n",
       "    </tr>\n",
       "    <tr>\n",
       "      <th>16</th>\n",
       "      <td>1.0</td>\n",
       "      <td>3</td>\n",
       "      <td>40.7348</td>\n",
       "      <td>-73.9865</td>\n",
       "      <td>7200</td>\n",
       "      <td>5</td>\n",
       "      <td>6</td>\n",
       "      <td>132</td>\n",
       "      <td>2016</td>\n",
       "      <td>6</td>\n",
       "      <td>28</td>\n",
       "    </tr>\n",
       "  </tbody>\n",
       "</table>\n",
       "</div>"
      ],
      "text/plain": [
       "    bathrooms  bedrooms  latitude  longitude  price  num_photos  num_features  \\\n",
       "4         1.0         1   40.7108   -73.9539   2400          12             7   \n",
       "6         1.0         2   40.7513   -73.9722   3800           6             6   \n",
       "9         1.0         2   40.7575   -73.9625   3495           6             6   \n",
       "15        1.0         0   40.7439   -73.9743   2795           4             4   \n",
       "16        1.0         3   40.7348   -73.9865   7200           5             6   \n",
       "\n",
       "    num_description_words  created_year  created_month  created_day  \n",
       "4                      77          2016              6           16  \n",
       "6                     131          2016              6            1  \n",
       "9                     119          2016              6           14  \n",
       "15                     41          2016              6           28  \n",
       "16                    132          2016              6           28  "
      ]
     },
     "execution_count": 30,
     "metadata": {},
     "output_type": "execute_result"
    }
   ],
   "source": [
    "\n",
    "num_feats = [\"bathrooms\", \"bedrooms\", \"latitude\", \"longitude\", \"price\",\n",
    "             \"num_photos\", \"num_features\", \"num_description_words\",\n",
    "             \"created_year\", \"created_month\", \"created_day\"]\n",
    "X = final_df[num_feats]\n",
    "y = final_df[\"interest_level\"]\n",
    "X.head()"
   ]
  },
  {
   "cell_type": "code",
   "execution_count": 31,
   "id": "e73b2b75",
   "metadata": {},
   "outputs": [],
   "source": [
    "test_df=pd.read_json(\"test.json\")"
   ]
  },
  {
   "cell_type": "code",
   "execution_count": 32,
   "id": "5e4e49ad",
   "metadata": {},
   "outputs": [],
   "source": [
    "test_df['num_photos']=test_df['photos'].str.len()\n",
    "test_df[\"num_features\"]=test_df[\"features\"].apply(len)\n",
    "test_df[\"num_description_words\"]=test_df[\"description\"].apply(lambda x: len(x.split(\" \")))\n",
    "test_df[\"created\"]=pd.to_datetime(test_df[\"created\"])\n",
    "test_df[\"created_year\"]=test_df[\"created\"].dt.year\n",
    "test_df[\"created_month\"]=test_df[\"created\"].dt.month\n",
    "test_df[\"created_day\"]=test_df[\"created\"].dt.day"
   ]
  },
  {
   "cell_type": "code",
   "execution_count": 33,
   "id": "89fb0510",
   "metadata": {},
   "outputs": [
    {
     "data": {
      "text/plain": [
       "array([[0.1 , 0.53, 0.37],\n",
       "       [0.24, 0.45, 0.31],\n",
       "       [0.06, 0.74, 0.2 ],\n",
       "       ...,\n",
       "       [0.04, 0.86, 0.1 ],\n",
       "       [0.02, 0.92, 0.06],\n",
       "       [0.15, 0.67, 0.18]])"
      ]
     },
     "execution_count": 33,
     "metadata": {},
     "output_type": "execute_result"
    }
   ],
   "source": [
    "from sklearn.ensemble import RandomForestClassifier\n",
    "clf = RandomForestClassifier(n_estimators=100)\n",
    "clf.fit(X,y)\n",
    "y_pred = clf.predict_proba(test_df[num_feats])\n",
    "y_pred"
   ]
  },
  {
   "cell_type": "code",
   "execution_count": 34,
   "id": "b2522ac6",
   "metadata": {},
   "outputs": [
    {
     "data": {
      "text/plain": [
       "0.7458823529411764"
      ]
     },
     "execution_count": 34,
     "metadata": {},
     "output_type": "execute_result"
    }
   ],
   "source": [
    "from sklearn.model_selection import cross_val_predict, cross_val_score\n",
    "from sklearn.metrics import accuracy_score,f1_score,precision_score,recall_score\n",
    "from sklearn.ensemble import RandomForestClassifier\n",
    "\n",
    "clf = RandomForestClassifier(n_estimators=25)\n",
    "scores = cross_val_score(clf, X, y, cv=100)\n",
    "scores.max()"
   ]
  },
  {
   "cell_type": "code",
   "execution_count": 50,
   "id": "ec5b26e8",
   "metadata": {},
   "outputs": [
    {
     "data": {
      "text/plain": [
       "0.6988235294117647"
      ]
     },
     "execution_count": 50,
     "metadata": {},
     "output_type": "execute_result"
    }
   ],
   "source": [
    "from sklearn.neighbors import KNeighborsClassifier\n",
    "neigh = KNeighborsClassifier(n_neighbors=10)\n",
    "scores = cross_val_score(neigh, X, y, cv=100)\n",
    "scores.max()"
   ]
  },
  {
   "cell_type": "code",
   "execution_count": 56,
   "id": "fc0b18dd",
   "metadata": {},
   "outputs": [
    {
     "data": {
      "text/plain": [
       "0.4045936395759717"
      ]
     },
     "execution_count": 56,
     "metadata": {},
     "output_type": "execute_result"
    }
   ],
   "source": [
    "from sklearn.naive_bayes import GaussianNB\n",
    "clf=GaussianNB()\n",
    "scores=cross_val_score(clf,X,y,cv=75)\n",
    "scores.max()"
   ]
  }
 ],
 "metadata": {
  "kernelspec": {
   "display_name": "Python 3",
   "language": "python",
   "name": "python3"
  },
  "language_info": {
   "codemirror_mode": {
    "name": "ipython",
    "version": 3
   },
   "file_extension": ".py",
   "mimetype": "text/x-python",
   "name": "python",
   "nbconvert_exporter": "python",
   "pygments_lexer": "ipython3",
   "version": "3.8.8"
  }
 },
 "nbformat": 4,
 "nbformat_minor": 5
}
